{
 "cells": [
  {
   "cell_type": "markdown",
   "id": "1c5ab710",
   "metadata": {},
   "source": [
    "# Cleaning Data Exercises\n",
    "\n",
    "For the exercises, you will be cleaning data in your chosen data set. [Towards Data Science](https://towardsdatascience.com/data-cleaning-in-python-the-ultimate-guide-2020-c63b88bf0a0d) outlines the steps we should take to clean data using a different data set from Kaggle. While you should use this article as a reference, make sure not to copy paste as the two data sets are very different!\n",
    "\n",
    "To start cleaning data, we first need to create a dataframe from the CSV and print out any relevant info to make sure our dataframe is ready to go."
   ]
  },
  {
   "cell_type": "markdown",
   "id": "23729a8b",
   "metadata": {},
   "source": [
    "## About Dataset\n",
    "\n",
    "**Context:**\n",
    "\n",
    "Rats in New York City are prevalent, as in many densely populated areas. For a long time, the exact number of rats in New York City was unknown, and a common urban legend was that there were up to four times as many rats as people. In 2014, however, scientists more accurately measured the entire city's rat population to be approximately only 25% of the number of humans; i.e., there were approximately 2 million rats to New York's 8.4 million people at the time of the study.[1][2]\n",
    "\n",
    "**Content:**\n",
    "\n",
    "New York City rodent complaints can be made online, or by dialing 3-1-1, and the New York City guide Preventing Rats on Your Property discusses how the New York City Health Department inspects private and public properties for rats. Property owners that fail inspections receive a Commissioner's Order and have five days to correct the problem. If after five days the property fails a second inspection, the owner receives a Notice of Violation and can be fined. The property owner is billed for any clean-up or extermination carried out by the Health Department.\n",
    "\n",
    "**Data is from 2010-Sept 16th, 2017 and includes date, location (lat/lon), type of structure, borough, and community board.**\n",
    "\n",
    "Acknowledgements:\n",
    "Data was produced by the City of New York via their 311 portal.\n",
    "\n",
    "**Inspiration:**\n",
    "\n",
    "**Where and when are rats most seen?**\n",
    "\n",
    "**Can you predict rat sightings from previous data?**\n",
    "\n",
    "**Are there any trends in rat sightings?**"
   ]
  },
  {
   "cell_type": "code",
   "execution_count": 1,
   "id": "da3513e0",
   "metadata": {},
   "outputs": [],
   "source": [
    "# Import pandas and any other libraries you need here. HINT: Check out the article to see what they imported to get started!\n",
    "\n",
    "import pandas_profiling as pp\n",
    "import pandas as pd\n",
    "import pandas as pd\n",
    "import numpy as np\n",
    "import seaborn as sns\n",
    "import matplotlib.pyplot as plt\n",
    "import matplotlib.mlab as mlab\n",
    "import matplotlib\n",
    "from nltk.metrics import edit_distance\n",
    "import missingno as msno"
   ]
  },
  {
   "cell_type": "code",
   "execution_count": 2,
   "id": "4c81e9bd",
   "metadata": {},
   "outputs": [],
   "source": [
    "# Create a new dataframe from your CSV\n",
    "df=pd.read_csv(\"Rat_Sightings.csv\")"
   ]
  },
  {
   "cell_type": "markdown",
   "id": "3e276305",
   "metadata": {},
   "source": [
    "## Understand the data set"
   ]
  },
  {
   "cell_type": "code",
   "execution_count": 3,
   "id": "045387eb",
   "metadata": {},
   "outputs": [
    {
     "data": {
      "text/html": [
       "<div>\n",
       "<style scoped>\n",
       "    .dataframe tbody tr th:only-of-type {\n",
       "        vertical-align: middle;\n",
       "    }\n",
       "\n",
       "    .dataframe tbody tr th {\n",
       "        vertical-align: top;\n",
       "    }\n",
       "\n",
       "    .dataframe thead th {\n",
       "        text-align: right;\n",
       "    }\n",
       "</style>\n",
       "<table border=\"1\" class=\"dataframe\">\n",
       "  <thead>\n",
       "    <tr style=\"text-align: right;\">\n",
       "      <th></th>\n",
       "      <th>Unique Key</th>\n",
       "      <th>Created Date</th>\n",
       "      <th>Closed Date</th>\n",
       "      <th>Agency</th>\n",
       "      <th>Agency Name</th>\n",
       "      <th>Complaint Type</th>\n",
       "      <th>Descriptor</th>\n",
       "      <th>Location Type</th>\n",
       "      <th>Incident Zip</th>\n",
       "      <th>Incident Address</th>\n",
       "      <th>...</th>\n",
       "      <th>Bridge Highway Name</th>\n",
       "      <th>Bridge Highway Direction</th>\n",
       "      <th>Road Ramp</th>\n",
       "      <th>Bridge Highway Segment</th>\n",
       "      <th>Garage Lot Name</th>\n",
       "      <th>Ferry Direction</th>\n",
       "      <th>Ferry Terminal Name</th>\n",
       "      <th>Latitude</th>\n",
       "      <th>Longitude</th>\n",
       "      <th>Location</th>\n",
       "    </tr>\n",
       "  </thead>\n",
       "  <tbody>\n",
       "    <tr>\n",
       "      <th>0</th>\n",
       "      <td>31464015</td>\n",
       "      <td>09/04/2015 12:00:00 AM</td>\n",
       "      <td>09/18/2015 12:00:00 AM</td>\n",
       "      <td>DOHMH</td>\n",
       "      <td>Department of Health and Mental Hygiene</td>\n",
       "      <td>Rodent</td>\n",
       "      <td>Rat Sighting</td>\n",
       "      <td>3+ Family Mixed Use Building</td>\n",
       "      <td>10006.0</td>\n",
       "      <td>NaN</td>\n",
       "      <td>...</td>\n",
       "      <td>NaN</td>\n",
       "      <td>NaN</td>\n",
       "      <td>NaN</td>\n",
       "      <td>NaN</td>\n",
       "      <td>NaN</td>\n",
       "      <td>NaN</td>\n",
       "      <td>NaN</td>\n",
       "      <td>40.707772</td>\n",
       "      <td>-74.012963</td>\n",
       "      <td>(40.70777155363643, -74.01296309970473)</td>\n",
       "    </tr>\n",
       "    <tr>\n",
       "      <th>1</th>\n",
       "      <td>31464024</td>\n",
       "      <td>09/04/2015 12:00:00 AM</td>\n",
       "      <td>10/28/2015 12:00:00 AM</td>\n",
       "      <td>DOHMH</td>\n",
       "      <td>Department of Health and Mental Hygiene</td>\n",
       "      <td>Rodent</td>\n",
       "      <td>Rat Sighting</td>\n",
       "      <td>Commercial Building</td>\n",
       "      <td>10306.0</td>\n",
       "      <td>2270 HYLAN BOULEVARD</td>\n",
       "      <td>...</td>\n",
       "      <td>NaN</td>\n",
       "      <td>NaN</td>\n",
       "      <td>NaN</td>\n",
       "      <td>NaN</td>\n",
       "      <td>NaN</td>\n",
       "      <td>NaN</td>\n",
       "      <td>NaN</td>\n",
       "      <td>40.575209</td>\n",
       "      <td>-74.104547</td>\n",
       "      <td>(40.575209242947444, -74.1045465185469)</td>\n",
       "    </tr>\n",
       "    <tr>\n",
       "      <th>2</th>\n",
       "      <td>31464025</td>\n",
       "      <td>09/04/2015 12:00:00 AM</td>\n",
       "      <td>NaN</td>\n",
       "      <td>DOHMH</td>\n",
       "      <td>Department of Health and Mental Hygiene</td>\n",
       "      <td>Rodent</td>\n",
       "      <td>Rat Sighting</td>\n",
       "      <td>1-2 Family Dwelling</td>\n",
       "      <td>10310.0</td>\n",
       "      <td>758 POST AVENUE</td>\n",
       "      <td>...</td>\n",
       "      <td>NaN</td>\n",
       "      <td>NaN</td>\n",
       "      <td>NaN</td>\n",
       "      <td>NaN</td>\n",
       "      <td>NaN</td>\n",
       "      <td>NaN</td>\n",
       "      <td>NaN</td>\n",
       "      <td>40.631236</td>\n",
       "      <td>-74.126878</td>\n",
       "      <td>(40.63123555151668, -74.12687759748677)</td>\n",
       "    </tr>\n",
       "    <tr>\n",
       "      <th>3</th>\n",
       "      <td>31464026</td>\n",
       "      <td>09/04/2015 12:00:00 AM</td>\n",
       "      <td>09/14/2015 12:00:00 AM</td>\n",
       "      <td>DOHMH</td>\n",
       "      <td>Department of Health and Mental Hygiene</td>\n",
       "      <td>Rodent</td>\n",
       "      <td>Rat Sighting</td>\n",
       "      <td>3+ Family Apt. Building</td>\n",
       "      <td>11206.0</td>\n",
       "      <td>198 SCHOLES STREET</td>\n",
       "      <td>...</td>\n",
       "      <td>NaN</td>\n",
       "      <td>NaN</td>\n",
       "      <td>NaN</td>\n",
       "      <td>NaN</td>\n",
       "      <td>NaN</td>\n",
       "      <td>NaN</td>\n",
       "      <td>NaN</td>\n",
       "      <td>40.708987</td>\n",
       "      <td>-73.941207</td>\n",
       "      <td>(40.70898692345805, -73.94120690238431)</td>\n",
       "    </tr>\n",
       "    <tr>\n",
       "      <th>4</th>\n",
       "      <td>31464027</td>\n",
       "      <td>09/04/2015 12:00:00 AM</td>\n",
       "      <td>09/22/2015 12:00:00 AM</td>\n",
       "      <td>DOHMH</td>\n",
       "      <td>Department of Health and Mental Hygiene</td>\n",
       "      <td>Rodent</td>\n",
       "      <td>Rat Sighting</td>\n",
       "      <td>3+ Family Mixed Use Building</td>\n",
       "      <td>10462.0</td>\n",
       "      <td>2138 WALLACE AVENUE</td>\n",
       "      <td>...</td>\n",
       "      <td>NaN</td>\n",
       "      <td>NaN</td>\n",
       "      <td>NaN</td>\n",
       "      <td>NaN</td>\n",
       "      <td>NaN</td>\n",
       "      <td>NaN</td>\n",
       "      <td>NaN</td>\n",
       "      <td>40.854130</td>\n",
       "      <td>-73.864813</td>\n",
       "      <td>(40.85413014360452, -73.86481331044513)</td>\n",
       "    </tr>\n",
       "  </tbody>\n",
       "</table>\n",
       "<p>5 rows × 52 columns</p>\n",
       "</div>"
      ],
      "text/plain": [
       "   Unique Key            Created Date             Closed Date Agency  \\\n",
       "0    31464015  09/04/2015 12:00:00 AM  09/18/2015 12:00:00 AM  DOHMH   \n",
       "1    31464024  09/04/2015 12:00:00 AM  10/28/2015 12:00:00 AM  DOHMH   \n",
       "2    31464025  09/04/2015 12:00:00 AM                     NaN  DOHMH   \n",
       "3    31464026  09/04/2015 12:00:00 AM  09/14/2015 12:00:00 AM  DOHMH   \n",
       "4    31464027  09/04/2015 12:00:00 AM  09/22/2015 12:00:00 AM  DOHMH   \n",
       "\n",
       "                               Agency Name Complaint Type    Descriptor  \\\n",
       "0  Department of Health and Mental Hygiene         Rodent  Rat Sighting   \n",
       "1  Department of Health and Mental Hygiene         Rodent  Rat Sighting   \n",
       "2  Department of Health and Mental Hygiene         Rodent  Rat Sighting   \n",
       "3  Department of Health and Mental Hygiene         Rodent  Rat Sighting   \n",
       "4  Department of Health and Mental Hygiene         Rodent  Rat Sighting   \n",
       "\n",
       "                  Location Type  Incident Zip      Incident Address  ...  \\\n",
       "0  3+ Family Mixed Use Building       10006.0                   NaN  ...   \n",
       "1           Commercial Building       10306.0  2270 HYLAN BOULEVARD  ...   \n",
       "2           1-2 Family Dwelling       10310.0       758 POST AVENUE  ...   \n",
       "3       3+ Family Apt. Building       11206.0    198 SCHOLES STREET  ...   \n",
       "4  3+ Family Mixed Use Building       10462.0   2138 WALLACE AVENUE  ...   \n",
       "\n",
       "  Bridge Highway Name Bridge Highway Direction Road Ramp  \\\n",
       "0                 NaN                      NaN       NaN   \n",
       "1                 NaN                      NaN       NaN   \n",
       "2                 NaN                      NaN       NaN   \n",
       "3                 NaN                      NaN       NaN   \n",
       "4                 NaN                      NaN       NaN   \n",
       "\n",
       "  Bridge Highway Segment Garage Lot Name Ferry Direction Ferry Terminal Name  \\\n",
       "0                    NaN             NaN             NaN                 NaN   \n",
       "1                    NaN             NaN             NaN                 NaN   \n",
       "2                    NaN             NaN             NaN                 NaN   \n",
       "3                    NaN             NaN             NaN                 NaN   \n",
       "4                    NaN             NaN             NaN                 NaN   \n",
       "\n",
       "    Latitude  Longitude                                 Location  \n",
       "0  40.707772 -74.012963  (40.70777155363643, -74.01296309970473)  \n",
       "1  40.575209 -74.104547  (40.575209242947444, -74.1045465185469)  \n",
       "2  40.631236 -74.126878  (40.63123555151668, -74.12687759748677)  \n",
       "3  40.708987 -73.941207  (40.70898692345805, -73.94120690238431)  \n",
       "4  40.854130 -73.864813  (40.85413014360452, -73.86481331044513)  \n",
       "\n",
       "[5 rows x 52 columns]"
      ]
     },
     "execution_count": 3,
     "metadata": {},
     "output_type": "execute_result"
    }
   ],
   "source": [
    "# Print out any information you need to understand your dataframe\n",
    "df.head()\n"
   ]
  },
  {
   "cell_type": "code",
   "execution_count": 4,
   "id": "4f13d06f",
   "metadata": {},
   "outputs": [
    {
     "data": {
      "text/html": [
       "<div>\n",
       "<style scoped>\n",
       "    .dataframe tbody tr th:only-of-type {\n",
       "        vertical-align: middle;\n",
       "    }\n",
       "\n",
       "    .dataframe tbody tr th {\n",
       "        vertical-align: top;\n",
       "    }\n",
       "\n",
       "    .dataframe thead th {\n",
       "        text-align: right;\n",
       "    }\n",
       "</style>\n",
       "<table border=\"1\" class=\"dataframe\">\n",
       "  <thead>\n",
       "    <tr style=\"text-align: right;\">\n",
       "      <th></th>\n",
       "      <th>Unique Key</th>\n",
       "      <th>Created Date</th>\n",
       "      <th>Closed Date</th>\n",
       "      <th>Agency</th>\n",
       "      <th>Agency Name</th>\n",
       "      <th>Complaint Type</th>\n",
       "      <th>Descriptor</th>\n",
       "      <th>Location Type</th>\n",
       "      <th>Incident Zip</th>\n",
       "      <th>Incident Address</th>\n",
       "      <th>...</th>\n",
       "      <th>Bridge Highway Name</th>\n",
       "      <th>Bridge Highway Direction</th>\n",
       "      <th>Road Ramp</th>\n",
       "      <th>Bridge Highway Segment</th>\n",
       "      <th>Garage Lot Name</th>\n",
       "      <th>Ferry Direction</th>\n",
       "      <th>Ferry Terminal Name</th>\n",
       "      <th>Latitude</th>\n",
       "      <th>Longitude</th>\n",
       "      <th>Location</th>\n",
       "    </tr>\n",
       "  </thead>\n",
       "  <tbody>\n",
       "    <tr>\n",
       "      <th>101909</th>\n",
       "      <td>35494908</td>\n",
       "      <td>02/15/2017 12:00:00 AM</td>\n",
       "      <td>01/31/2017 12:00:00 AM</td>\n",
       "      <td>DOHMH</td>\n",
       "      <td>Department of Health and Mental Hygiene</td>\n",
       "      <td>Rodent</td>\n",
       "      <td>Rat Sighting</td>\n",
       "      <td>3+ Family Mixed Use Building</td>\n",
       "      <td>11207.0</td>\n",
       "      <td>2515 ATLANTIC AVENUE</td>\n",
       "      <td>...</td>\n",
       "      <td>NaN</td>\n",
       "      <td>NaN</td>\n",
       "      <td>NaN</td>\n",
       "      <td>NaN</td>\n",
       "      <td>NaN</td>\n",
       "      <td>NaN</td>\n",
       "      <td>NaN</td>\n",
       "      <td>40.675635</td>\n",
       "      <td>-73.901327</td>\n",
       "      <td>(40.67563538613833, -73.90132744872707)</td>\n",
       "    </tr>\n",
       "    <tr>\n",
       "      <th>101910</th>\n",
       "      <td>35494944</td>\n",
       "      <td>02/14/2017 12:00:00 AM</td>\n",
       "      <td>02/23/2017 12:00:00 AM</td>\n",
       "      <td>DOHMH</td>\n",
       "      <td>Department of Health and Mental Hygiene</td>\n",
       "      <td>Rodent</td>\n",
       "      <td>Rat Sighting</td>\n",
       "      <td>3+ Family Apt. Building</td>\n",
       "      <td>11233.0</td>\n",
       "      <td>829 HALSEY STREET</td>\n",
       "      <td>...</td>\n",
       "      <td>NaN</td>\n",
       "      <td>NaN</td>\n",
       "      <td>NaN</td>\n",
       "      <td>NaN</td>\n",
       "      <td>NaN</td>\n",
       "      <td>NaN</td>\n",
       "      <td>NaN</td>\n",
       "      <td>40.685525</td>\n",
       "      <td>-73.919406</td>\n",
       "      <td>(40.685525167695936, -73.91940607172907)</td>\n",
       "    </tr>\n",
       "    <tr>\n",
       "      <th>101911</th>\n",
       "      <td>35494945</td>\n",
       "      <td>02/14/2017 12:00:00 AM</td>\n",
       "      <td>02/16/2017 12:00:00 AM</td>\n",
       "      <td>DOHMH</td>\n",
       "      <td>Department of Health and Mental Hygiene</td>\n",
       "      <td>Rodent</td>\n",
       "      <td>Rat Sighting</td>\n",
       "      <td>3+ Family Mixed Use Building</td>\n",
       "      <td>11213.0</td>\n",
       "      <td>98 ALBANY AVENUE</td>\n",
       "      <td>...</td>\n",
       "      <td>NaN</td>\n",
       "      <td>NaN</td>\n",
       "      <td>NaN</td>\n",
       "      <td>NaN</td>\n",
       "      <td>NaN</td>\n",
       "      <td>NaN</td>\n",
       "      <td>NaN</td>\n",
       "      <td>40.677325</td>\n",
       "      <td>-73.938679</td>\n",
       "      <td>(40.67732468990624, -73.93867870955741)</td>\n",
       "    </tr>\n",
       "    <tr>\n",
       "      <th>101912</th>\n",
       "      <td>35494970</td>\n",
       "      <td>02/14/2017 12:00:00 AM</td>\n",
       "      <td>01/17/2017 12:00:00 AM</td>\n",
       "      <td>DOHMH</td>\n",
       "      <td>Department of Health and Mental Hygiene</td>\n",
       "      <td>Rodent</td>\n",
       "      <td>Rat Sighting</td>\n",
       "      <td>1-2 Family Dwelling</td>\n",
       "      <td>11105.0</td>\n",
       "      <td>22-68 46 STREET</td>\n",
       "      <td>...</td>\n",
       "      <td>NaN</td>\n",
       "      <td>NaN</td>\n",
       "      <td>NaN</td>\n",
       "      <td>NaN</td>\n",
       "      <td>NaN</td>\n",
       "      <td>NaN</td>\n",
       "      <td>NaN</td>\n",
       "      <td>40.769171</td>\n",
       "      <td>-73.903860</td>\n",
       "      <td>(40.76917070274182, -73.90386041412091)</td>\n",
       "    </tr>\n",
       "    <tr>\n",
       "      <th>101913</th>\n",
       "      <td>35502334</td>\n",
       "      <td>02/15/2017 04:39:49 AM</td>\n",
       "      <td>NaN</td>\n",
       "      <td>DOHMH</td>\n",
       "      <td>Department of Health and Mental Hygiene</td>\n",
       "      <td>Rodent</td>\n",
       "      <td>Rat Sighting</td>\n",
       "      <td>3+ Family Mixed Use Building</td>\n",
       "      <td>11238.0</td>\n",
       "      <td>89 LEFFERTS PLACE</td>\n",
       "      <td>...</td>\n",
       "      <td>NaN</td>\n",
       "      <td>NaN</td>\n",
       "      <td>NaN</td>\n",
       "      <td>NaN</td>\n",
       "      <td>NaN</td>\n",
       "      <td>NaN</td>\n",
       "      <td>NaN</td>\n",
       "      <td>40.681130</td>\n",
       "      <td>-73.959936</td>\n",
       "      <td>(40.68113007777712, -73.95993644360209)</td>\n",
       "    </tr>\n",
       "  </tbody>\n",
       "</table>\n",
       "<p>5 rows × 52 columns</p>\n",
       "</div>"
      ],
      "text/plain": [
       "        Unique Key            Created Date             Closed Date Agency  \\\n",
       "101909    35494908  02/15/2017 12:00:00 AM  01/31/2017 12:00:00 AM  DOHMH   \n",
       "101910    35494944  02/14/2017 12:00:00 AM  02/23/2017 12:00:00 AM  DOHMH   \n",
       "101911    35494945  02/14/2017 12:00:00 AM  02/16/2017 12:00:00 AM  DOHMH   \n",
       "101912    35494970  02/14/2017 12:00:00 AM  01/17/2017 12:00:00 AM  DOHMH   \n",
       "101913    35502334  02/15/2017 04:39:49 AM                     NaN  DOHMH   \n",
       "\n",
       "                                    Agency Name Complaint Type    Descriptor  \\\n",
       "101909  Department of Health and Mental Hygiene         Rodent  Rat Sighting   \n",
       "101910  Department of Health and Mental Hygiene         Rodent  Rat Sighting   \n",
       "101911  Department of Health and Mental Hygiene         Rodent  Rat Sighting   \n",
       "101912  Department of Health and Mental Hygiene         Rodent  Rat Sighting   \n",
       "101913  Department of Health and Mental Hygiene         Rodent  Rat Sighting   \n",
       "\n",
       "                       Location Type  Incident Zip      Incident Address  ...  \\\n",
       "101909  3+ Family Mixed Use Building       11207.0  2515 ATLANTIC AVENUE  ...   \n",
       "101910       3+ Family Apt. Building       11233.0     829 HALSEY STREET  ...   \n",
       "101911  3+ Family Mixed Use Building       11213.0      98 ALBANY AVENUE  ...   \n",
       "101912           1-2 Family Dwelling       11105.0       22-68 46 STREET  ...   \n",
       "101913  3+ Family Mixed Use Building       11238.0     89 LEFFERTS PLACE  ...   \n",
       "\n",
       "       Bridge Highway Name Bridge Highway Direction Road Ramp  \\\n",
       "101909                 NaN                      NaN       NaN   \n",
       "101910                 NaN                      NaN       NaN   \n",
       "101911                 NaN                      NaN       NaN   \n",
       "101912                 NaN                      NaN       NaN   \n",
       "101913                 NaN                      NaN       NaN   \n",
       "\n",
       "       Bridge Highway Segment Garage Lot Name Ferry Direction  \\\n",
       "101909                    NaN             NaN             NaN   \n",
       "101910                    NaN             NaN             NaN   \n",
       "101911                    NaN             NaN             NaN   \n",
       "101912                    NaN             NaN             NaN   \n",
       "101913                    NaN             NaN             NaN   \n",
       "\n",
       "       Ferry Terminal Name   Latitude  Longitude  \\\n",
       "101909                 NaN  40.675635 -73.901327   \n",
       "101910                 NaN  40.685525 -73.919406   \n",
       "101911                 NaN  40.677325 -73.938679   \n",
       "101912                 NaN  40.769171 -73.903860   \n",
       "101913                 NaN  40.681130 -73.959936   \n",
       "\n",
       "                                        Location  \n",
       "101909   (40.67563538613833, -73.90132744872707)  \n",
       "101910  (40.685525167695936, -73.91940607172907)  \n",
       "101911   (40.67732468990624, -73.93867870955741)  \n",
       "101912   (40.76917070274182, -73.90386041412091)  \n",
       "101913   (40.68113007777712, -73.95993644360209)  \n",
       "\n",
       "[5 rows x 52 columns]"
      ]
     },
     "execution_count": 4,
     "metadata": {},
     "output_type": "execute_result"
    }
   ],
   "source": [
    "df.tail()"
   ]
  },
  {
   "cell_type": "code",
   "execution_count": 5,
   "id": "245eadaa",
   "metadata": {},
   "outputs": [
    {
     "name": "stdout",
     "output_type": "stream",
     "text": [
      "<class 'pandas.core.frame.DataFrame'>\n",
      "RangeIndex: 101914 entries, 0 to 101913\n",
      "Data columns (total 52 columns):\n",
      " #   Column                          Non-Null Count   Dtype  \n",
      "---  ------                          --------------   -----  \n",
      " 0   Unique Key                      101914 non-null  int64  \n",
      " 1   Created Date                    101914 non-null  object \n",
      " 2   Closed Date                     90983 non-null   object \n",
      " 3   Agency                          101914 non-null  object \n",
      " 4   Agency Name                     101914 non-null  object \n",
      " 5   Complaint Type                  101914 non-null  object \n",
      " 6   Descriptor                      101914 non-null  object \n",
      " 7   Location Type                   101908 non-null  object \n",
      " 8   Incident Zip                    101578 non-null  float64\n",
      " 9   Incident Address                92840 non-null   object \n",
      " 10  Street Name                     92839 non-null   object \n",
      " 11  Cross Street 1                  85257 non-null   object \n",
      " 12  Cross Street 2                  85224 non-null   object \n",
      " 13  Intersection Street 1           8925 non-null    object \n",
      " 14  Intersection Street 2           8925 non-null    object \n",
      " 15  Address Type                    101568 non-null  object \n",
      " 16  City                            101572 non-null  object \n",
      " 17  Landmark                        35 non-null      object \n",
      " 18  Facility Type                   0 non-null       float64\n",
      " 19  Status                          101914 non-null  object \n",
      " 20  Due Date                        101797 non-null  object \n",
      " 21  Resolution Action Updated Date  101911 non-null  object \n",
      " 22  Community Board                 101914 non-null  object \n",
      " 23  Borough                         101914 non-null  object \n",
      " 24  X Coordinate (State Plane)      101208 non-null  float64\n",
      " 25  Y Coordinate (State Plane)      101208 non-null  float64\n",
      " 26  Park Facility Name              101914 non-null  object \n",
      " 27  Park Borough                    101914 non-null  object \n",
      " 28  School Name                     101914 non-null  object \n",
      " 29  School Number                   101914 non-null  object \n",
      " 30  School Region                   101914 non-null  object \n",
      " 31  School Code                     101914 non-null  object \n",
      " 32  School Phone Number             101914 non-null  object \n",
      " 33  School Address                  101914 non-null  object \n",
      " 34  School City                     101914 non-null  object \n",
      " 35  School State                    101914 non-null  object \n",
      " 36  School Zip                      101914 non-null  object \n",
      " 37  School Not Found                100997 non-null  object \n",
      " 38  School or Citywide Complaint    0 non-null       float64\n",
      " 39  Vehicle Type                    0 non-null       float64\n",
      " 40  Taxi Company Borough            0 non-null       float64\n",
      " 41  Taxi Pick Up Location           0 non-null       float64\n",
      " 42  Bridge Highway Name             0 non-null       float64\n",
      " 43  Bridge Highway Direction        0 non-null       float64\n",
      " 44  Road Ramp                       0 non-null       float64\n",
      " 45  Bridge Highway Segment          0 non-null       float64\n",
      " 46  Garage Lot Name                 0 non-null       float64\n",
      " 47  Ferry Direction                 0 non-null       float64\n",
      " 48  Ferry Terminal Name             0 non-null       float64\n",
      " 49  Latitude                        101208 non-null  float64\n",
      " 50  Longitude                       101208 non-null  float64\n",
      " 51  Location                        101208 non-null  object \n",
      "dtypes: float64(17), int64(1), object(34)\n",
      "memory usage: 40.4+ MB\n"
     ]
    }
   ],
   "source": [
    "df.info()\n",
    "\n",
    "#The info() method of pandas.DataFrame can display information such as the number of rows and columns, \n",
    "#the total memory usage, the data type of each column, and the number of non-NaN elements."
   ]
  },
  {
   "cell_type": "code",
   "execution_count": 6,
   "id": "8457716f",
   "metadata": {},
   "outputs": [
    {
     "data": {
      "text/plain": [
       "(101914, 52)"
      ]
     },
     "execution_count": 6,
     "metadata": {},
     "output_type": "execute_result"
    }
   ],
   "source": [
    "df.shape\n",
    "\n",
    "#The shape attribute of pandas.DataFrame stores the number of rows and columns as a tuple\n",
    "#(number of rows, number of columns)."
   ]
  },
  {
   "cell_type": "code",
   "execution_count": 7,
   "id": "1b54e7b0",
   "metadata": {},
   "outputs": [
    {
     "data": {
      "text/plain": [
       "Unique Key                          int64\n",
       "Created Date                       object\n",
       "Closed Date                        object\n",
       "Agency                             object\n",
       "Agency Name                        object\n",
       "Complaint Type                     object\n",
       "Descriptor                         object\n",
       "Location Type                      object\n",
       "Incident Zip                      float64\n",
       "Incident Address                   object\n",
       "Street Name                        object\n",
       "Cross Street 1                     object\n",
       "Cross Street 2                     object\n",
       "Intersection Street 1              object\n",
       "Intersection Street 2              object\n",
       "Address Type                       object\n",
       "City                               object\n",
       "Landmark                           object\n",
       "Facility Type                     float64\n",
       "Status                             object\n",
       "Due Date                           object\n",
       "Resolution Action Updated Date     object\n",
       "Community Board                    object\n",
       "Borough                            object\n",
       "X Coordinate (State Plane)        float64\n",
       "Y Coordinate (State Plane)        float64\n",
       "Park Facility Name                 object\n",
       "Park Borough                       object\n",
       "School Name                        object\n",
       "School Number                      object\n",
       "School Region                      object\n",
       "School Code                        object\n",
       "School Phone Number                object\n",
       "School Address                     object\n",
       "School City                        object\n",
       "School State                       object\n",
       "School Zip                         object\n",
       "School Not Found                   object\n",
       "School or Citywide Complaint      float64\n",
       "Vehicle Type                      float64\n",
       "Taxi Company Borough              float64\n",
       "Taxi Pick Up Location             float64\n",
       "Bridge Highway Name               float64\n",
       "Bridge Highway Direction          float64\n",
       "Road Ramp                         float64\n",
       "Bridge Highway Segment            float64\n",
       "Garage Lot Name                   float64\n",
       "Ferry Direction                   float64\n",
       "Ferry Terminal Name               float64\n",
       "Latitude                          float64\n",
       "Longitude                         float64\n",
       "Location                           object\n",
       "dtype: object"
      ]
     },
     "execution_count": 7,
     "metadata": {},
     "output_type": "execute_result"
    }
   ],
   "source": [
    "df.dtypes"
   ]
  },
  {
   "cell_type": "code",
   "execution_count": 9,
   "id": "6697d3de",
   "metadata": {},
   "outputs": [
    {
     "data": {
      "text/plain": [
       "Index(['Unique Key', 'Incident Zip', 'Facility Type',\n",
       "       'X Coordinate (State Plane)', 'Y Coordinate (State Plane)',\n",
       "       'School or Citywide Complaint', 'Vehicle Type', 'Taxi Company Borough',\n",
       "       'Taxi Pick Up Location', 'Bridge Highway Name',\n",
       "       'Bridge Highway Direction', 'Road Ramp', 'Bridge Highway Segment',\n",
       "       'Garage Lot Name', 'Ferry Direction', 'Ferry Terminal Name', 'Latitude',\n",
       "       'Longitude'],\n",
       "      dtype='object')"
      ]
     },
     "execution_count": 9,
     "metadata": {},
     "output_type": "execute_result"
    }
   ],
   "source": [
    "numeric_cols = df.select_dtypes(include=['number']).columns\n",
    "\n",
    "numeric_cols"
   ]
  },
  {
   "cell_type": "code",
   "execution_count": 10,
   "id": "2370a28a",
   "metadata": {},
   "outputs": [
    {
     "data": {
      "text/plain": [
       "Index(['Created Date', 'Closed Date', 'Agency', 'Agency Name',\n",
       "       'Complaint Type', 'Descriptor', 'Location Type', 'Incident Address',\n",
       "       'Street Name', 'Cross Street 1', 'Cross Street 2',\n",
       "       'Intersection Street 1', 'Intersection Street 2', 'Address Type',\n",
       "       'City', 'Landmark', 'Status', 'Due Date',\n",
       "       'Resolution Action Updated Date', 'Community Board', 'Borough',\n",
       "       'Park Facility Name', 'Park Borough', 'School Name', 'School Number',\n",
       "       'School Region', 'School Code', 'School Phone Number', 'School Address',\n",
       "       'School City', 'School State', 'School Zip', 'School Not Found',\n",
       "       'Location'],\n",
       "      dtype='object')"
      ]
     },
     "execution_count": 10,
     "metadata": {},
     "output_type": "execute_result"
    }
   ],
   "source": [
    "non_numeric_cols = df.select_dtypes(exclude=['number']).columns\n",
    "\n",
    "non_numeric_cols"
   ]
  },
  {
   "cell_type": "markdown",
   "id": "81717993",
   "metadata": {},
   "source": [
    "Now you have a dataframe set up, you are ready to dive in and start cleaning!"
   ]
  },
  {
   "cell_type": "markdown",
   "id": "303aee35",
   "metadata": {},
   "source": [
    "## Missing Data\n",
    "\n",
    "In the Towards Data Science article, they list 3 techniques for detecting any missing data frame. Try all three before deciding on a way to solve any missing data issues."
   ]
  },
  {
   "cell_type": "code",
   "execution_count": 11,
   "id": "68fd548c",
   "metadata": {},
   "outputs": [
    {
     "data": {
      "text/plain": [
       "<AxesSubplot:>"
      ]
     },
     "execution_count": 11,
     "metadata": {},
     "output_type": "execute_result"
    },
    {
     "data": {
      "image/png": "[encoded data removed]",
      "text/plain": [
       "<Figure size 720x576 with 2 Axes>"
      ]
     },
     "metadata": {
      "needs_background": "light"
     },
     "output_type": "display_data"
    }
   ],
   "source": [
    "# Plot a heatmap of any missing data\n",
    "plt.figure(figsize=(10,8))\n",
    "\n",
    "cols = df.columns[:30]\n",
    "colours = ['#000099', '#ffff00'] # specify colours: blue(first code) - not missing. yellow - missing\n",
    "sns.heatmap(df[cols].isna(), cmap=sns.color_palette(colours))\n"
   ]
  },
  {
   "cell_type": "markdown",
   "id": "7ace73bb",
   "metadata": {},
   "source": [
    "The horizontal axis shows the column names; the vertical axis shows the number of rows; the yellow color represents the missing data while the blue color is otherwise.\n",
    "\n",
    "Heat map of the first 30 rows show:Landmark, Facility Type, Intersection 1 and 2 have missing values throughout all or almost all the rows."
   ]
  },
  {
   "cell_type": "code",
   "execution_count": 12,
   "id": "34365177",
   "metadata": {},
   "outputs": [
    {
     "data": {
      "text/plain": [
       "<AxesSubplot:>"
      ]
     },
     "execution_count": 12,
     "metadata": {},
     "output_type": "execute_result"
    },
    {
     "data": {
      "image/png": "[encoded data removed]",
      "text/plain": [
       "<Figure size 720x576 with 2 Axes>"
      ]
     },
     "metadata": {
      "needs_background": "light"
     },
     "output_type": "display_data"
    }
   ],
   "source": [
    "plt.figure(figsize=(10,8))\n",
    "\n",
    "cols = df.columns[30:52]\n",
    "colours = ['green', 'red'] # specify colours: green -not missing. red - missing\n",
    "sns.heatmap(df[cols].isna(), cmap=sns.color_palette(colours))\n"
   ]
  },
  {
   "cell_type": "markdown",
   "id": "e83ad157",
   "metadata": {},
   "source": [
    "Heat map of columns 30 to 52 show a significant block of null data (100%) from the following columns:\n",
    "\n",
    "-School or Citywide Complaint  0 non-null       \n",
    "-Vehicle Type                  0 non-null       \n",
    "-Taxi Company Borough          0 non-null       \n",
    "-Taxi Pick Up Location         0 non-null      \n",
    "-Bridge Highway Name           0 non-null       \n",
    "-Bridge Highway Direction      0 non-null      \n",
    "-Road Ramp                     0 non-null      \n",
    "-Bridge Highway Segment        0 non-null      \n",
    "-Garage Lot Name               0 non-null       \n",
    "-Ferry Direction               0 non-null      \n",
    "-Ferry Terminal Name"
   ]
  },
  {
   "cell_type": "code",
   "execution_count": 13,
   "id": "35365576",
   "metadata": {},
   "outputs": [
    {
     "name": "stdout",
     "output_type": "stream",
     "text": [
      "<class 'pandas.core.frame.DataFrame'>\n",
      "RangeIndex: 101914 entries, 0 to 101913\n",
      "Data columns (total 34 columns):\n",
      " #   Column                          Non-Null Count   Dtype \n",
      "---  ------                          --------------   ----- \n",
      " 0   Created Date                    101914 non-null  object\n",
      " 1   Closed Date                     90983 non-null   object\n",
      " 2   Agency                          101914 non-null  object\n",
      " 3   Agency Name                     101914 non-null  object\n",
      " 4   Complaint Type                  101914 non-null  object\n",
      " 5   Descriptor                      101914 non-null  object\n",
      " 6   Location Type                   101908 non-null  object\n",
      " 7   Incident Address                92840 non-null   object\n",
      " 8   Street Name                     92839 non-null   object\n",
      " 9   Cross Street 1                  85257 non-null   object\n",
      " 10  Cross Street 2                  85224 non-null   object\n",
      " 11  Intersection Street 1           8925 non-null    object\n",
      " 12  Intersection Street 2           8925 non-null    object\n",
      " 13  Address Type                    101568 non-null  object\n",
      " 14  City                            101572 non-null  object\n",
      " 15  Landmark                        35 non-null      object\n",
      " 16  Status                          101914 non-null  object\n",
      " 17  Due Date                        101797 non-null  object\n",
      " 18  Resolution Action Updated Date  101911 non-null  object\n",
      " 19  Community Board                 101914 non-null  object\n",
      " 20  Borough                         101914 non-null  object\n",
      " 21  Park Facility Name              101914 non-null  object\n",
      " 22  Park Borough                    101914 non-null  object\n",
      " 23  School Name                     101914 non-null  object\n",
      " 24  School Number                   101914 non-null  object\n",
      " 25  School Region                   101914 non-null  object\n",
      " 26  School Code                     101914 non-null  object\n",
      " 27  School Phone Number             101914 non-null  object\n",
      " 28  School Address                  101914 non-null  object\n",
      " 29  School City                     101914 non-null  object\n",
      " 30  School State                    101914 non-null  object\n",
      " 31  School Zip                      101914 non-null  object\n",
      " 32  School Not Found                100997 non-null  object\n",
      " 33  Location                        101208 non-null  object\n",
      "dtypes: object(34)\n",
      "memory usage: 26.4+ MB\n"
     ]
    }
   ],
   "source": [
    "df[non_numeric_cols].info()"
   ]
  },
  {
   "cell_type": "code",
   "execution_count": 14,
   "id": "0e0c2f9d",
   "metadata": {},
   "outputs": [
    {
     "name": "stdout",
     "output_type": "stream",
     "text": [
      "<class 'pandas.core.frame.DataFrame'>\n",
      "RangeIndex: 101914 entries, 0 to 101913\n",
      "Data columns (total 18 columns):\n",
      " #   Column                        Non-Null Count   Dtype  \n",
      "---  ------                        --------------   -----  \n",
      " 0   Unique Key                    101914 non-null  int64  \n",
      " 1   Incident Zip                  101578 non-null  float64\n",
      " 2   Facility Type                 0 non-null       float64\n",
      " 3   X Coordinate (State Plane)    101208 non-null  float64\n",
      " 4   Y Coordinate (State Plane)    101208 non-null  float64\n",
      " 5   School or Citywide Complaint  0 non-null       float64\n",
      " 6   Vehicle Type                  0 non-null       float64\n",
      " 7   Taxi Company Borough          0 non-null       float64\n",
      " 8   Taxi Pick Up Location         0 non-null       float64\n",
      " 9   Bridge Highway Name           0 non-null       float64\n",
      " 10  Bridge Highway Direction      0 non-null       float64\n",
      " 11  Road Ramp                     0 non-null       float64\n",
      " 12  Bridge Highway Segment        0 non-null       float64\n",
      " 13  Garage Lot Name               0 non-null       float64\n",
      " 14  Ferry Direction               0 non-null       float64\n",
      " 15  Ferry Terminal Name           0 non-null       float64\n",
      " 16  Latitude                      101208 non-null  float64\n",
      " 17  Longitude                     101208 non-null  float64\n",
      "dtypes: float64(17), int64(1)\n",
      "memory usage: 14.0 MB\n"
     ]
    }
   ],
   "source": [
    "df[numeric_cols].info()"
   ]
  },
  {
   "cell_type": "code",
   "execution_count": 15,
   "id": "fa9cd7d5",
   "metadata": {},
   "outputs": [
    {
     "data": {
      "text/plain": [
       "Unique Key                             0\n",
       "Created Date                           0\n",
       "Closed Date                        10931\n",
       "Agency                                 0\n",
       "Agency Name                            0\n",
       "Complaint Type                         0\n",
       "Descriptor                             0\n",
       "Location Type                          6\n",
       "Incident Zip                         336\n",
       "Incident Address                    9074\n",
       "Street Name                         9075\n",
       "Cross Street 1                     16657\n",
       "Cross Street 2                     16690\n",
       "Intersection Street 1              92989\n",
       "Intersection Street 2              92989\n",
       "Address Type                         346\n",
       "City                                 342\n",
       "Landmark                          101879\n",
       "Facility Type                     101914\n",
       "Status                                 0\n",
       "Due Date                             117\n",
       "Resolution Action Updated Date         3\n",
       "Community Board                        0\n",
       "Borough                                0\n",
       "X Coordinate (State Plane)           706\n",
       "Y Coordinate (State Plane)           706\n",
       "Park Facility Name                     0\n",
       "Park Borough                           0\n",
       "School Name                            0\n",
       "School Number                          0\n",
       "School Region                          0\n",
       "School Code                            0\n",
       "School Phone Number                    0\n",
       "School Address                         0\n",
       "School City                            0\n",
       "School State                           0\n",
       "School Zip                             0\n",
       "School Not Found                     917\n",
       "School or Citywide Complaint      101914\n",
       "Vehicle Type                      101914\n",
       "Taxi Company Borough              101914\n",
       "Taxi Pick Up Location             101914\n",
       "Bridge Highway Name               101914\n",
       "Bridge Highway Direction          101914\n",
       "Road Ramp                         101914\n",
       "Bridge Highway Segment            101914\n",
       "Garage Lot Name                   101914\n",
       "Ferry Direction                   101914\n",
       "Ferry Terminal Name               101914\n",
       "Latitude                             706\n",
       "Longitude                            706\n",
       "Location                             706\n",
       "dtype: int64"
      ]
     },
     "execution_count": 15,
     "metadata": {},
     "output_type": "execute_result"
    }
   ],
   "source": [
    "num_missing = df.isna().sum()\n",
    "\n",
    "num_missing"
   ]
  },
  {
   "cell_type": "code",
   "execution_count": 16,
   "id": "0ae37b5d",
   "metadata": {},
   "outputs": [
    {
     "data": {
      "text/plain": [
       "Unique Key                          0.000000\n",
       "Created Date                        0.000000\n",
       "Closed Date                        10.725710\n",
       "Agency                              0.000000\n",
       "Agency Name                         0.000000\n",
       "Complaint Type                      0.000000\n",
       "Descriptor                          0.000000\n",
       "Location Type                       0.005887\n",
       "Incident Zip                        0.329690\n",
       "Incident Address                    8.903585\n",
       "Street Name                         8.904567\n",
       "Cross Street 1                     16.344173\n",
       "Cross Street 2                     16.376553\n",
       "Intersection Street 1              91.242616\n",
       "Intersection Street 2              91.242616\n",
       "Address Type                        0.339502\n",
       "City                                0.335577\n",
       "Landmark                           99.965657\n",
       "Facility Type                     100.000000\n",
       "Status                              0.000000\n",
       "Due Date                            0.114803\n",
       "Resolution Action Updated Date      0.002944\n",
       "Community Board                     0.000000\n",
       "Borough                             0.000000\n",
       "X Coordinate (State Plane)          0.692741\n",
       "Y Coordinate (State Plane)          0.692741\n",
       "Park Facility Name                  0.000000\n",
       "Park Borough                        0.000000\n",
       "School Name                         0.000000\n",
       "School Number                       0.000000\n",
       "School Region                       0.000000\n",
       "School Code                         0.000000\n",
       "School Phone Number                 0.000000\n",
       "School Address                      0.000000\n",
       "School City                         0.000000\n",
       "School State                        0.000000\n",
       "School Zip                          0.000000\n",
       "School Not Found                    0.899778\n",
       "School or Citywide Complaint      100.000000\n",
       "Vehicle Type                      100.000000\n",
       "Taxi Company Borough              100.000000\n",
       "Taxi Pick Up Location             100.000000\n",
       "Bridge Highway Name               100.000000\n",
       "Bridge Highway Direction          100.000000\n",
       "Road Ramp                         100.000000\n",
       "Bridge Highway Segment            100.000000\n",
       "Garage Lot Name                   100.000000\n",
       "Ferry Direction                   100.000000\n",
       "Ferry Terminal Name               100.000000\n",
       "Latitude                            0.692741\n",
       "Longitude                           0.692741\n",
       "Location                            0.692741\n",
       "dtype: float64"
      ]
     },
     "execution_count": 16,
     "metadata": {},
     "output_type": "execute_result"
    }
   ],
   "source": [
    "# Try out a missing data percentage list! \n",
    "pct_missing = df.isna().mean()\n",
    "\n",
    "pct_missing*100\n"
   ]
  },
  {
   "cell_type": "code",
   "execution_count": 17,
   "id": "05a36117",
   "metadata": {},
   "outputs": [],
   "source": [
    "# Plot a missing data histogram\n",
    "# for col in df.columns:\n",
    "#     missing = df[col].isnull()\n",
    "#     num_missing = np.sum(missing)\n",
    "    \n",
    "#     if num_missing > 0:  \n",
    "#         print('created missing indicator for: {}'.format(col))\n",
    "#         df['{}_ismissing'.format(col)] = missing\n",
    "\n",
    "\n",
    "# # then based on the indicator, plot the histogram of missing values\n",
    "# ismissing_cols = [col for col in df.columns if 'ismissing' in col]\n",
    "# df['num_missing'] = df[ismissing_cols].sum(axis=1)\n",
    "\n",
    "# df['num_missing'].value_counts().reset_index().sort_values(by='index').plot.bar(x='index', y='num_missing')\n",
    "\n",
    "\n",
    "    "
   ]
  },
  {
   "cell_type": "code",
   "execution_count": 18,
   "id": "7aaf3ce9",
   "metadata": {},
   "outputs": [
    {
     "data": {
      "text/plain": [
       "<AxesSubplot:>"
      ]
     },
     "execution_count": 18,
     "metadata": {},
     "output_type": "execute_result"
    },
    {
     "data": {
      "image/png": "[encoded data removed]",
      "text/plain": [
       "<Figure size 432x288 with 1 Axes>"
      ]
     },
     "metadata": {
      "needs_background": "light"
     },
     "output_type": "display_data"
    }
   ],
   "source": [
    "#Missing rows histogram\n",
    "\n",
    "missing_by_row = df.isna().sum(axis='columns')\n",
    "missing_by_row.hist(bins=30)\n",
    "\n",
    "#This histogram helps to identify the missing patterns among the 101914 entries. \n",
    "#For example, there are over 70,000 observations with close to 0 missing values, \n",
    "#and close to 10,000 observations with a little less than 16 missing values."
   ]
  },
  {
   "cell_type": "markdown",
   "id": "5e791fbe",
   "metadata": {},
   "source": [
    "Now that you have tried all 3 techniques for detecting missing data, did you find any? Reading through the article, which solution do you think will help you clean the data set and handle the missing data? Try out your solution below!"
   ]
  },
  {
   "cell_type": "code",
   "execution_count": 19,
   "id": "682163eb",
   "metadata": {},
   "outputs": [
    {
     "data": {
      "text/plain": [
       "Intersection Street 1           0.912426\n",
       "Intersection Street 2           0.912426\n",
       "Landmark                        0.999657\n",
       "Facility Type                   1.000000\n",
       "School or Citywide Complaint    1.000000\n",
       "Vehicle Type                    1.000000\n",
       "Taxi Company Borough            1.000000\n",
       "Taxi Pick Up Location           1.000000\n",
       "Bridge Highway Name             1.000000\n",
       "Bridge Highway Direction        1.000000\n",
       "Road Ramp                       1.000000\n",
       "Bridge Highway Segment          1.000000\n",
       "Garage Lot Name                 1.000000\n",
       "Ferry Direction                 1.000000\n",
       "Ferry Terminal Name             1.000000\n",
       "dtype: float64"
      ]
     },
     "execution_count": 19,
     "metadata": {},
     "output_type": "execute_result"
    }
   ],
   "source": [
    "#number of columns with over 40% missing values\n",
    "\n",
    "pct_missing[pct_missing >= .4]\n",
    "\n",
    "#15 columns with over 40% of data missing (b/w 90-100 %)"
   ]
  },
  {
   "cell_type": "markdown",
   "id": "36dc03b3",
   "metadata": {},
   "source": [
    "## Remove missing columns"
   ]
  },
  {
   "cell_type": "code",
   "execution_count": 20,
   "id": "b69bc171",
   "metadata": {},
   "outputs": [],
   "source": [
    "df_copy=df.copy()"
   ]
  },
  {
   "cell_type": "code",
   "execution_count": 21,
   "id": "53c2d34c",
   "metadata": {},
   "outputs": [],
   "source": [
    "# Handle any missing data in your dataframe.\n",
    "#df_less_missing_cols = df.loc[:,pct_missing <= .4].copy()\n",
    "\n",
    "# equivalent to \n",
    "#df_less_missing_cols=df.drop(columns=pct_missing[pct_missing > .4].index)\n",
    "\n",
    "df_copy=df_copy.loc[:,pct_missing <= .4].copy()\n",
    "\n",
    "\n",
    "\n"
   ]
  },
  {
   "cell_type": "code",
   "execution_count": 22,
   "id": "9edb66af",
   "metadata": {},
   "outputs": [
    {
     "data": {
      "text/plain": [
       "(101914, 37)"
      ]
     },
     "execution_count": 22,
     "metadata": {},
     "output_type": "execute_result"
    }
   ],
   "source": [
    "#df_less_missing_cols.shape\n",
    "\n",
    "df_copy.shape\n"
   ]
  },
  {
   "cell_type": "code",
   "execution_count": 23,
   "id": "16614d6b",
   "metadata": {},
   "outputs": [
    {
     "data": {
      "text/plain": [
       "Index(['Unique Key', 'Created Date', 'Closed Date', 'Agency', 'Agency Name',\n",
       "       'Complaint Type', 'Descriptor', 'Location Type', 'Incident Zip',\n",
       "       'Incident Address', 'Street Name', 'Cross Street 1', 'Cross Street 2',\n",
       "       'Address Type', 'City', 'Status', 'Due Date',\n",
       "       'Resolution Action Updated Date', 'Community Board', 'Borough',\n",
       "       'X Coordinate (State Plane)', 'Y Coordinate (State Plane)',\n",
       "       'Park Facility Name', 'Park Borough', 'School Name', 'School Number',\n",
       "       'School Region', 'School Code', 'School Phone Number', 'School Address',\n",
       "       'School City', 'School State', 'School Zip', 'School Not Found',\n",
       "       'Latitude', 'Longitude', 'Location'],\n",
       "      dtype='object')"
      ]
     },
     "execution_count": 23,
     "metadata": {},
     "output_type": "execute_result"
    }
   ],
   "source": [
    "#df_less_missing_cols.columns\n",
    "\n",
    "\n",
    "df_copy.columns\n"
   ]
  },
  {
   "cell_type": "markdown",
   "id": "a69430f3",
   "metadata": {},
   "source": [
    "## Remove missing rows"
   ]
  },
  {
   "cell_type": "code",
   "execution_count": 24,
   "id": "7dc532aa",
   "metadata": {},
   "outputs": [],
   "source": [
    "df_less_missing_rows = df[missing_by_row < 22].copy()\n",
    "\n",
    " # equivalent to df.dropna(axis='index', thresh=292-35+1).shape\n",
    "    \n",
    "df_copy=df_less_missing_rows \n",
    "\n",
    "#drop missing rows\n"
   ]
  },
  {
   "cell_type": "code",
   "execution_count": 25,
   "id": "69cdeda4",
   "metadata": {},
   "outputs": [],
   "source": [
    "df_copy=df_copy.loc[:,pct_missing <= .4].copy()\n",
    "#ensure missing columns are removed from copy variable"
   ]
  },
  {
   "cell_type": "markdown",
   "id": "3dbeefb3",
   "metadata": {},
   "source": [
    " from the missing data histogram shown earlier, we notice that only a small amount of observations have over 22 columns all missing. We can create a new dataset df_less_missing_rows to only keep observations with less than 22 missing columns."
   ]
  },
  {
   "cell_type": "code",
   "execution_count": 26,
   "id": "9ed5cadd",
   "metadata": {},
   "outputs": [],
   "source": [
    "#df.dropna(axis='index', thresh=52-22+1).shape"
   ]
  },
  {
   "cell_type": "code",
   "execution_count": 27,
   "id": "b0be8dea",
   "metadata": {},
   "outputs": [],
   "source": [
    "#df[missing_by_row >= 22].head()"
   ]
  },
  {
   "cell_type": "code",
   "execution_count": 28,
   "id": "84135318",
   "metadata": {},
   "outputs": [
    {
     "data": {
      "text/plain": [
       "(101517, 37)"
      ]
     },
     "execution_count": 28,
     "metadata": {},
     "output_type": "execute_result"
    }
   ],
   "source": [
    "#df_less_missing_rows.shape\n",
    "\n",
    "df_copy.shape\n",
    "\n",
    "#397 rows removed, 15 columns removed"
   ]
  },
  {
   "cell_type": "markdown",
   "id": "68531b99",
   "metadata": {},
   "source": [
    "## Impute the missing with constant values"
   ]
  },
  {
   "cell_type": "code",
   "execution_count": 29,
   "id": "56ac02b9",
   "metadata": {},
   "outputs": [],
   "source": [
    "numeric_cols_copy = df_copy.select_dtypes(include=['number']).columns"
   ]
  },
  {
   "cell_type": "code",
   "execution_count": 30,
   "id": "c0f2aad7",
   "metadata": {},
   "outputs": [],
   "source": [
    "non_numeric_cols_copy = df_copy.select_dtypes(exclude=['number']).columns\n",
    "\n",
    "\n",
    "df_copy[non_numeric_cols_copy] = df_copy[non_numeric_cols_copy].fillna('_UNKNOWN_')\n",
    "\n",
    "#non numeric values only imputed with unknown"
   ]
  },
  {
   "cell_type": "code",
   "execution_count": 31,
   "id": "17f41525",
   "metadata": {
    "scrolled": true
   },
   "outputs": [
    {
     "data": {
      "text/html": [
       "<div>\n",
       "<style scoped>\n",
       "    .dataframe tbody tr th:only-of-type {\n",
       "        vertical-align: middle;\n",
       "    }\n",
       "\n",
       "    .dataframe tbody tr th {\n",
       "        vertical-align: top;\n",
       "    }\n",
       "\n",
       "    .dataframe thead th {\n",
       "        text-align: right;\n",
       "    }\n",
       "</style>\n",
       "<table border=\"1\" class=\"dataframe\">\n",
       "  <thead>\n",
       "    <tr style=\"text-align: right;\">\n",
       "      <th></th>\n",
       "      <th>Unique Key</th>\n",
       "      <th>Created Date</th>\n",
       "      <th>Closed Date</th>\n",
       "      <th>Agency</th>\n",
       "      <th>Agency Name</th>\n",
       "      <th>Complaint Type</th>\n",
       "      <th>Descriptor</th>\n",
       "      <th>Location Type</th>\n",
       "      <th>Incident Zip</th>\n",
       "      <th>Incident Address</th>\n",
       "      <th>...</th>\n",
       "      <th>School Code</th>\n",
       "      <th>School Phone Number</th>\n",
       "      <th>School Address</th>\n",
       "      <th>School City</th>\n",
       "      <th>School State</th>\n",
       "      <th>School Zip</th>\n",
       "      <th>School Not Found</th>\n",
       "      <th>Latitude</th>\n",
       "      <th>Longitude</th>\n",
       "      <th>Location</th>\n",
       "    </tr>\n",
       "  </thead>\n",
       "  <tbody>\n",
       "    <tr>\n",
       "      <th>0</th>\n",
       "      <td>31464015</td>\n",
       "      <td>09/04/2015 12:00:00 AM</td>\n",
       "      <td>09/18/2015 12:00:00 AM</td>\n",
       "      <td>DOHMH</td>\n",
       "      <td>Department of Health and Mental Hygiene</td>\n",
       "      <td>Rodent</td>\n",
       "      <td>Rat Sighting</td>\n",
       "      <td>3+ Family Mixed Use Building</td>\n",
       "      <td>10006.0</td>\n",
       "      <td>_UNKNOWN_</td>\n",
       "      <td>...</td>\n",
       "      <td>Unspecified</td>\n",
       "      <td>Unspecified</td>\n",
       "      <td>Unspecified</td>\n",
       "      <td>Unspecified</td>\n",
       "      <td>Unspecified</td>\n",
       "      <td>Unspecified</td>\n",
       "      <td>N</td>\n",
       "      <td>40.707772</td>\n",
       "      <td>-74.012963</td>\n",
       "      <td>(40.70777155363643, -74.01296309970473)</td>\n",
       "    </tr>\n",
       "    <tr>\n",
       "      <th>1</th>\n",
       "      <td>31464024</td>\n",
       "      <td>09/04/2015 12:00:00 AM</td>\n",
       "      <td>10/28/2015 12:00:00 AM</td>\n",
       "      <td>DOHMH</td>\n",
       "      <td>Department of Health and Mental Hygiene</td>\n",
       "      <td>Rodent</td>\n",
       "      <td>Rat Sighting</td>\n",
       "      <td>Commercial Building</td>\n",
       "      <td>10306.0</td>\n",
       "      <td>2270 HYLAN BOULEVARD</td>\n",
       "      <td>...</td>\n",
       "      <td>Unspecified</td>\n",
       "      <td>Unspecified</td>\n",
       "      <td>Unspecified</td>\n",
       "      <td>Unspecified</td>\n",
       "      <td>Unspecified</td>\n",
       "      <td>Unspecified</td>\n",
       "      <td>N</td>\n",
       "      <td>40.575209</td>\n",
       "      <td>-74.104547</td>\n",
       "      <td>(40.575209242947444, -74.1045465185469)</td>\n",
       "    </tr>\n",
       "    <tr>\n",
       "      <th>2</th>\n",
       "      <td>31464025</td>\n",
       "      <td>09/04/2015 12:00:00 AM</td>\n",
       "      <td>_UNKNOWN_</td>\n",
       "      <td>DOHMH</td>\n",
       "      <td>Department of Health and Mental Hygiene</td>\n",
       "      <td>Rodent</td>\n",
       "      <td>Rat Sighting</td>\n",
       "      <td>1-2 Family Dwelling</td>\n",
       "      <td>10310.0</td>\n",
       "      <td>758 POST AVENUE</td>\n",
       "      <td>...</td>\n",
       "      <td>Unspecified</td>\n",
       "      <td>Unspecified</td>\n",
       "      <td>Unspecified</td>\n",
       "      <td>Unspecified</td>\n",
       "      <td>Unspecified</td>\n",
       "      <td>Unspecified</td>\n",
       "      <td>N</td>\n",
       "      <td>40.631236</td>\n",
       "      <td>-74.126878</td>\n",
       "      <td>(40.63123555151668, -74.12687759748677)</td>\n",
       "    </tr>\n",
       "    <tr>\n",
       "      <th>3</th>\n",
       "      <td>31464026</td>\n",
       "      <td>09/04/2015 12:00:00 AM</td>\n",
       "      <td>09/14/2015 12:00:00 AM</td>\n",
       "      <td>DOHMH</td>\n",
       "      <td>Department of Health and Mental Hygiene</td>\n",
       "      <td>Rodent</td>\n",
       "      <td>Rat Sighting</td>\n",
       "      <td>3+ Family Apt. Building</td>\n",
       "      <td>11206.0</td>\n",
       "      <td>198 SCHOLES STREET</td>\n",
       "      <td>...</td>\n",
       "      <td>Unspecified</td>\n",
       "      <td>Unspecified</td>\n",
       "      <td>Unspecified</td>\n",
       "      <td>Unspecified</td>\n",
       "      <td>Unspecified</td>\n",
       "      <td>Unspecified</td>\n",
       "      <td>N</td>\n",
       "      <td>40.708987</td>\n",
       "      <td>-73.941207</td>\n",
       "      <td>(40.70898692345805, -73.94120690238431)</td>\n",
       "    </tr>\n",
       "    <tr>\n",
       "      <th>4</th>\n",
       "      <td>31464027</td>\n",
       "      <td>09/04/2015 12:00:00 AM</td>\n",
       "      <td>09/22/2015 12:00:00 AM</td>\n",
       "      <td>DOHMH</td>\n",
       "      <td>Department of Health and Mental Hygiene</td>\n",
       "      <td>Rodent</td>\n",
       "      <td>Rat Sighting</td>\n",
       "      <td>3+ Family Mixed Use Building</td>\n",
       "      <td>10462.0</td>\n",
       "      <td>2138 WALLACE AVENUE</td>\n",
       "      <td>...</td>\n",
       "      <td>Unspecified</td>\n",
       "      <td>Unspecified</td>\n",
       "      <td>Unspecified</td>\n",
       "      <td>Unspecified</td>\n",
       "      <td>Unspecified</td>\n",
       "      <td>Unspecified</td>\n",
       "      <td>N</td>\n",
       "      <td>40.854130</td>\n",
       "      <td>-73.864813</td>\n",
       "      <td>(40.85413014360452, -73.86481331044513)</td>\n",
       "    </tr>\n",
       "  </tbody>\n",
       "</table>\n",
       "<p>5 rows × 37 columns</p>\n",
       "</div>"
      ],
      "text/plain": [
       "   Unique Key            Created Date             Closed Date Agency  \\\n",
       "0    31464015  09/04/2015 12:00:00 AM  09/18/2015 12:00:00 AM  DOHMH   \n",
       "1    31464024  09/04/2015 12:00:00 AM  10/28/2015 12:00:00 AM  DOHMH   \n",
       "2    31464025  09/04/2015 12:00:00 AM               _UNKNOWN_  DOHMH   \n",
       "3    31464026  09/04/2015 12:00:00 AM  09/14/2015 12:00:00 AM  DOHMH   \n",
       "4    31464027  09/04/2015 12:00:00 AM  09/22/2015 12:00:00 AM  DOHMH   \n",
       "\n",
       "                               Agency Name Complaint Type    Descriptor  \\\n",
       "0  Department of Health and Mental Hygiene         Rodent  Rat Sighting   \n",
       "1  Department of Health and Mental Hygiene         Rodent  Rat Sighting   \n",
       "2  Department of Health and Mental Hygiene         Rodent  Rat Sighting   \n",
       "3  Department of Health and Mental Hygiene         Rodent  Rat Sighting   \n",
       "4  Department of Health and Mental Hygiene         Rodent  Rat Sighting   \n",
       "\n",
       "                  Location Type  Incident Zip      Incident Address  ...  \\\n",
       "0  3+ Family Mixed Use Building       10006.0             _UNKNOWN_  ...   \n",
       "1           Commercial Building       10306.0  2270 HYLAN BOULEVARD  ...   \n",
       "2           1-2 Family Dwelling       10310.0       758 POST AVENUE  ...   \n",
       "3       3+ Family Apt. Building       11206.0    198 SCHOLES STREET  ...   \n",
       "4  3+ Family Mixed Use Building       10462.0   2138 WALLACE AVENUE  ...   \n",
       "\n",
       "   School Code School Phone Number School Address  School City School State  \\\n",
       "0  Unspecified         Unspecified    Unspecified  Unspecified  Unspecified   \n",
       "1  Unspecified         Unspecified    Unspecified  Unspecified  Unspecified   \n",
       "2  Unspecified         Unspecified    Unspecified  Unspecified  Unspecified   \n",
       "3  Unspecified         Unspecified    Unspecified  Unspecified  Unspecified   \n",
       "4  Unspecified         Unspecified    Unspecified  Unspecified  Unspecified   \n",
       "\n",
       "    School Zip School Not Found   Latitude  Longitude  \\\n",
       "0  Unspecified                N  40.707772 -74.012963   \n",
       "1  Unspecified                N  40.575209 -74.104547   \n",
       "2  Unspecified                N  40.631236 -74.126878   \n",
       "3  Unspecified                N  40.708987 -73.941207   \n",
       "4  Unspecified                N  40.854130 -73.864813   \n",
       "\n",
       "                                  Location  \n",
       "0  (40.70777155363643, -74.01296309970473)  \n",
       "1  (40.575209242947444, -74.1045465185469)  \n",
       "2  (40.63123555151668, -74.12687759748677)  \n",
       "3  (40.70898692345805, -73.94120690238431)  \n",
       "4  (40.85413014360452, -73.86481331044513)  \n",
       "\n",
       "[5 rows x 37 columns]"
      ]
     },
     "execution_count": 31,
     "metadata": {},
     "output_type": "execute_result"
    }
   ],
   "source": [
    "df_copy.head()"
   ]
  },
  {
   "cell_type": "code",
   "execution_count": 32,
   "id": "946c2bd0",
   "metadata": {},
   "outputs": [
    {
     "data": {
      "text/plain": [
       "Index(['Created Date', 'Closed Date', 'Agency', 'Agency Name',\n",
       "       'Complaint Type', 'Descriptor', 'Location Type', 'Incident Address',\n",
       "       'Street Name', 'Cross Street 1', 'Cross Street 2', 'Address Type',\n",
       "       'City', 'Status', 'Due Date', 'Resolution Action Updated Date',\n",
       "       'Community Board', 'Borough', 'Park Facility Name', 'Park Borough',\n",
       "       'School Name', 'School Number', 'School Region', 'School Code',\n",
       "       'School Phone Number', 'School Address', 'School City', 'School State',\n",
       "       'School Zip', 'School Not Found', 'Location'],\n",
       "      dtype='object')"
      ]
     },
     "execution_count": 32,
     "metadata": {},
     "output_type": "execute_result"
    }
   ],
   "source": [
    "non_numeric_cols_copy"
   ]
  },
  {
   "cell_type": "code",
   "execution_count": 33,
   "id": "10c8a9d1",
   "metadata": {},
   "outputs": [
    {
     "data": {
      "text/plain": [
       "Index(['Unique Key', 'Incident Zip', 'X Coordinate (State Plane)',\n",
       "       'Y Coordinate (State Plane)', 'Latitude', 'Longitude'],\n",
       "      dtype='object')"
      ]
     },
     "execution_count": 33,
     "metadata": {},
     "output_type": "execute_result"
    }
   ],
   "source": [
    "numeric_cols_copy"
   ]
  },
  {
   "cell_type": "code",
   "execution_count": 34,
   "id": "279916fc",
   "metadata": {},
   "outputs": [],
   "source": [
    "#numeric_cols\n",
    "#for comparison purposes"
   ]
  },
  {
   "cell_type": "code",
   "execution_count": 35,
   "id": "468a25fd",
   "metadata": {},
   "outputs": [
    {
     "data": {
      "text/plain": [
       "Unique Key                    -1.035234\n",
       "Incident Zip                  24.321103\n",
       "X Coordinate (State Plane)     2.860997\n",
       "Y Coordinate (State Plane)    -0.843950\n",
       "Latitude                      -0.843499\n",
       "Longitude                      2.842520\n",
       "dtype: float64"
      ]
     },
     "execution_count": 35,
     "metadata": {},
     "output_type": "execute_result"
    }
   ],
   "source": [
    "df_copy.kurt(numeric_only=True)[:37]\n"
   ]
  },
  {
   "cell_type": "code",
   "execution_count": 50,
   "id": "34bf5da8",
   "metadata": {},
   "outputs": [
    {
     "name": "stdout",
     "output_type": "stream",
     "text": [
      "<class 'pandas.core.frame.DataFrame'>\n",
      "Int64Index: 101517 entries, 0 to 101913\n",
      "Data columns (total 37 columns):\n",
      " #   Column                          Non-Null Count   Dtype  \n",
      "---  ------                          --------------   -----  \n",
      " 0   Unique Key                      101517 non-null  int64  \n",
      " 1   Created Date                    101517 non-null  object \n",
      " 2   Closed Date                     101517 non-null  object \n",
      " 3   Agency                          101517 non-null  object \n",
      " 4   Agency Name                     101517 non-null  object \n",
      " 5   Complaint Type                  101517 non-null  object \n",
      " 6   Descriptor                      101517 non-null  object \n",
      " 7   Location Type                   101517 non-null  object \n",
      " 8   Incident Zip                    101502 non-null  float64\n",
      " 9   Incident Address                101517 non-null  object \n",
      " 10  Street Name                     101517 non-null  object \n",
      " 11  Cross Street 1                  101517 non-null  object \n",
      " 12  Cross Street 2                  101517 non-null  object \n",
      " 13  Address Type                    101517 non-null  object \n",
      " 14  City                            101517 non-null  object \n",
      " 15  Status                          101517 non-null  object \n",
      " 16  Due Date                        101517 non-null  object \n",
      " 17  Resolution Action Updated Date  101517 non-null  object \n",
      " 18  Community Board                 101517 non-null  object \n",
      " 19  Borough                         101517 non-null  object \n",
      " 20  X Coordinate (State Plane)      101207 non-null  float64\n",
      " 21  Y Coordinate (State Plane)      101207 non-null  float64\n",
      " 22  Park Facility Name              101517 non-null  object \n",
      " 23  Park Borough                    101517 non-null  object \n",
      " 24  School Name                     101517 non-null  object \n",
      " 25  School Number                   101517 non-null  object \n",
      " 26  School Region                   101517 non-null  object \n",
      " 27  School Code                     101517 non-null  object \n",
      " 28  School Phone Number             101517 non-null  object \n",
      " 29  School Address                  101517 non-null  object \n",
      " 30  School City                     101517 non-null  object \n",
      " 31  School State                    101517 non-null  object \n",
      " 32  School Zip                      101517 non-null  object \n",
      " 33  School Not Found                101517 non-null  object \n",
      " 34  Latitude                        101207 non-null  float64\n",
      " 35  Longitude                       101207 non-null  float64\n",
      " 36  Location                        101517 non-null  object \n",
      "dtypes: float64(5), int64(1), object(31)\n",
      "memory usage: 29.4+ MB\n"
     ]
    }
   ],
   "source": [
    "df_copy.info()"
   ]
  },
  {
   "cell_type": "markdown",
   "id": "003a53a3",
   "metadata": {},
   "source": [
    "Kurtosis is a statistical measure of ‘tailedness’. The higher kurtosis is often linked to the greater extremity of deviations (or outliers) in the data. So this is a single statistic to detect potential outliers."
   ]
  },
  {
   "cell_type": "markdown",
   "id": "be2121df",
   "metadata": {},
   "source": [
    "## Irregular Data\n",
    "\n",
    "With missing data out of the way, turn your attention to any outliers. Just as we did for missing data, we first need to detect the outliers. The article outlines the top techniques for finding outliers in a dataset."
   ]
  },
  {
   "cell_type": "code",
   "execution_count": 36,
   "id": "3a4f2cff",
   "metadata": {},
   "outputs": [],
   "source": [
    "# Plot a histogram to see if there are any outliers.\n",
    "\n"
   ]
  },
  {
   "cell_type": "code",
   "execution_count": 37,
   "id": "ae9008bb",
   "metadata": {},
   "outputs": [
    {
     "data": {
      "text/html": [
       "<div>\n",
       "<style scoped>\n",
       "    .dataframe tbody tr th:only-of-type {\n",
       "        vertical-align: middle;\n",
       "    }\n",
       "\n",
       "    .dataframe tbody tr th {\n",
       "        vertical-align: top;\n",
       "    }\n",
       "\n",
       "    .dataframe thead th {\n",
       "        text-align: right;\n",
       "    }\n",
       "</style>\n",
       "<table border=\"1\" class=\"dataframe\">\n",
       "  <thead>\n",
       "    <tr style=\"text-align: right;\">\n",
       "      <th></th>\n",
       "      <th>Unique Key</th>\n",
       "      <th>Incident Zip</th>\n",
       "      <th>X Coordinate (State Plane)</th>\n",
       "      <th>Y Coordinate (State Plane)</th>\n",
       "      <th>Latitude</th>\n",
       "      <th>Longitude</th>\n",
       "    </tr>\n",
       "  </thead>\n",
       "  <tbody>\n",
       "    <tr>\n",
       "      <th>count</th>\n",
       "      <td>1.015170e+05</td>\n",
       "      <td>101502.000000</td>\n",
       "      <td>1.012070e+05</td>\n",
       "      <td>101207.000000</td>\n",
       "      <td>101207.000000</td>\n",
       "      <td>101207.000000</td>\n",
       "    </tr>\n",
       "    <tr>\n",
       "      <th>mean</th>\n",
       "      <td>2.816533e+07</td>\n",
       "      <td>10727.795364</td>\n",
       "      <td>1.002473e+06</td>\n",
       "      <td>208640.001551</td>\n",
       "      <td>40.739304</td>\n",
       "      <td>-73.934205</td>\n",
       "    </tr>\n",
       "    <tr>\n",
       "      <th>std</th>\n",
       "      <td>6.011612e+06</td>\n",
       "      <td>564.321996</td>\n",
       "      <td>1.958043e+04</td>\n",
       "      <td>29956.341258</td>\n",
       "      <td>0.082225</td>\n",
       "      <td>0.070617</td>\n",
       "    </tr>\n",
       "    <tr>\n",
       "      <th>min</th>\n",
       "      <td>1.146439e+07</td>\n",
       "      <td>83.000000</td>\n",
       "      <td>9.134950e+05</td>\n",
       "      <td>121350.000000</td>\n",
       "      <td>40.499502</td>\n",
       "      <td>-74.254437</td>\n",
       "    </tr>\n",
       "    <tr>\n",
       "      <th>25%</th>\n",
       "      <td>2.342367e+07</td>\n",
       "      <td>10075.000000</td>\n",
       "      <td>9.936100e+05</td>\n",
       "      <td>186934.000000</td>\n",
       "      <td>40.679740</td>\n",
       "      <td>-73.966216</td>\n",
       "    </tr>\n",
       "    <tr>\n",
       "      <th>50%</th>\n",
       "      <td>2.884043e+07</td>\n",
       "      <td>10472.000000</td>\n",
       "      <td>1.001399e+06</td>\n",
       "      <td>203425.000000</td>\n",
       "      <td>40.725009</td>\n",
       "      <td>-73.938112</td>\n",
       "    </tr>\n",
       "    <tr>\n",
       "      <th>75%</th>\n",
       "      <td>3.346459e+07</td>\n",
       "      <td>11222.000000</td>\n",
       "      <td>1.011951e+06</td>\n",
       "      <td>236364.000000</td>\n",
       "      <td>40.815430</td>\n",
       "      <td>-73.899963</td>\n",
       "    </tr>\n",
       "    <tr>\n",
       "      <th>max</th>\n",
       "      <td>3.719700e+07</td>\n",
       "      <td>11694.000000</td>\n",
       "      <td>1.066922e+06</td>\n",
       "      <td>271876.000000</td>\n",
       "      <td>40.912869</td>\n",
       "      <td>-73.701632</td>\n",
       "    </tr>\n",
       "  </tbody>\n",
       "</table>\n",
       "</div>"
      ],
      "text/plain": [
       "         Unique Key   Incident Zip  X Coordinate (State Plane)  \\\n",
       "count  1.015170e+05  101502.000000                1.012070e+05   \n",
       "mean   2.816533e+07   10727.795364                1.002473e+06   \n",
       "std    6.011612e+06     564.321996                1.958043e+04   \n",
       "min    1.146439e+07      83.000000                9.134950e+05   \n",
       "25%    2.342367e+07   10075.000000                9.936100e+05   \n",
       "50%    2.884043e+07   10472.000000                1.001399e+06   \n",
       "75%    3.346459e+07   11222.000000                1.011951e+06   \n",
       "max    3.719700e+07   11694.000000                1.066922e+06   \n",
       "\n",
       "       Y Coordinate (State Plane)       Latitude      Longitude  \n",
       "count               101207.000000  101207.000000  101207.000000  \n",
       "mean                208640.001551      40.739304     -73.934205  \n",
       "std                  29956.341258       0.082225       0.070617  \n",
       "min                 121350.000000      40.499502     -74.254437  \n",
       "25%                 186934.000000      40.679740     -73.966216  \n",
       "50%                 203425.000000      40.725009     -73.938112  \n",
       "75%                 236364.000000      40.815430     -73.899963  \n",
       "max                 271876.000000      40.912869     -73.701632  "
      ]
     },
     "execution_count": 37,
     "metadata": {},
     "output_type": "execute_result"
    }
   ],
   "source": [
    "# Use the describe() method\n",
    "df_copy.describe()"
   ]
  },
  {
   "cell_type": "code",
   "execution_count": 68,
   "id": "4af44edf",
   "metadata": {},
   "outputs": [
    {
     "data": {
      "text/plain": [
       "<AxesSubplot:>"
      ]
     },
     "execution_count": 68,
     "metadata": {},
     "output_type": "execute_result"
    },
    {
     "data": {
      "image/png": "[encoded data removed]",
      "text/plain": [
       "<Figure size 432x288 with 1 Axes>"
      ]
     },
     "metadata": {
      "needs_background": "light"
     },
     "output_type": "display_data"
    }
   ],
   "source": [
    "# Plot a bar chart\n",
    "df_copy['Borough'].value_counts().plot(kind='bar')"
   ]
  },
  {
   "cell_type": "markdown",
   "id": "da8d6080",
   "metadata": {},
   "source": [
    "Which of the three techniques helped you find any outliers? Now that you have found outliers, what will you do to solve the problem?"
   ]
  },
  {
   "cell_type": "code",
   "execution_count": 39,
   "id": "3ee7d694",
   "metadata": {},
   "outputs": [],
   "source": [
    "# Handle any outliers in your dataframe"
   ]
  },
  {
   "cell_type": "markdown",
   "id": "c802522d",
   "metadata": {},
   "source": [
    "## Unnecessary Data\n",
    "\n",
    "Unnecessary data could be duplicates, irrelevant, or any uninformative data. Dive into each type of unnecessary data to see if there is any in the data set. Make sure to make note of how you would handle each type of unnecessary data."
   ]
  },
  {
   "cell_type": "code",
   "execution_count": 54,
   "id": "8de40f50",
   "metadata": {},
   "outputs": [
    {
     "name": "stdout",
     "output_type": "stream",
     "text": [
      "Agency: 100.00%\n",
      "DOHMH    101517\n",
      "Name: Agency, dtype: int64\n",
      "\n",
      "Agency Name: 100.00%\n",
      "Department of Health and Mental Hygiene    101517\n",
      "Name: Agency Name, dtype: int64\n",
      "\n",
      "Complaint Type: 100.00%\n",
      "Rodent    101517\n",
      "Name: Complaint Type, dtype: int64\n",
      "\n",
      "Descriptor: 100.00%\n",
      "Rat Sighting    101517\n",
      "Name: Descriptor, dtype: int64\n",
      "\n",
      "Park Facility Name: 100.00%\n",
      "Unspecified    101517\n",
      "Name: Park Facility Name, dtype: int64\n",
      "\n",
      "School Name: 100.00%\n",
      "Unspecified    101517\n",
      "Name: School Name, dtype: int64\n",
      "\n",
      "School Number: 100.00%\n",
      "Unspecified    101517\n",
      "Name: School Number, dtype: int64\n",
      "\n",
      "School Region: 100.00%\n",
      "Unspecified    101517\n",
      "Name: School Region, dtype: int64\n",
      "\n",
      "School Code: 100.00%\n",
      "Unspecified    101517\n",
      "Name: School Code, dtype: int64\n",
      "\n",
      "School Phone Number: 100.00%\n",
      "Unspecified    101517\n",
      "Name: School Phone Number, dtype: int64\n",
      "\n",
      "School Address: 100.00%\n",
      "Unspecified    101517\n",
      "Name: School Address, dtype: int64\n",
      "\n",
      "School City: 100.00%\n",
      "Unspecified    101517\n",
      "Name: School City, dtype: int64\n",
      "\n",
      "School State: 100.00%\n",
      "Unspecified    101517\n",
      "Name: School State, dtype: int64\n",
      "\n",
      "School Zip: 100.00%\n",
      "Unspecified    101517\n",
      "Name: School Zip, dtype: int64\n",
      "\n"
     ]
    }
   ],
   "source": [
    "# Look for any irrelevant data in the dataframe. How will you handle it?\n",
    "num_rows = len(df_copy)\n",
    "\n",
    "for col in df_copy.columns:\n",
    "    cnts = df_copy[col].value_counts(dropna=False)\n",
    "    top_pct = (cnts/num_rows).iloc[0]\n",
    "    \n",
    "    if top_pct > 0.999:\n",
    "        print('{0}: {1:.2f}%'.format(col, top_pct*100))\n",
    "        print(cnts)\n",
    "        print()"
   ]
  },
  {
   "cell_type": "markdown",
   "id": "844a5ccc",
   "metadata": {},
   "source": [
    "## The Above Cell:\n",
    "\n",
    "We generated a list of columns with a high percentage of the same value. For example, we specifed to show columns with over 99.9% rows being the same value.\n",
    "\n",
    "For the Columns above with a high percentage of the same value, we can drop them when they are not informative or providing key info for analysis, e.g., when the column has 100% being the same value.\n",
    "\n",
    "**The columns listed above are not informative to the analysis:**\n",
    "\n",
    "School zip, school state, school city, school address, schhol phone number, school code, school region, school number, school name and park faciilty all have data that say **\"Unspecified\".**\n",
    "\n",
    "Agency name and agency are both consistently **Department of Health and Mental Hygiene** \n",
    "\n",
    "Complaint type and descriptor are consistently **Rodent and rat sighting** across the data"
   ]
  },
  {
   "cell_type": "code",
   "execution_count": 55,
   "id": "888b49f1",
   "metadata": {},
   "outputs": [
    {
     "data": {
      "text/html": [
       "<div>\n",
       "<style scoped>\n",
       "    .dataframe tbody tr th:only-of-type {\n",
       "        vertical-align: middle;\n",
       "    }\n",
       "\n",
       "    .dataframe tbody tr th {\n",
       "        vertical-align: top;\n",
       "    }\n",
       "\n",
       "    .dataframe thead th {\n",
       "        text-align: right;\n",
       "    }\n",
       "</style>\n",
       "<table border=\"1\" class=\"dataframe\">\n",
       "  <thead>\n",
       "    <tr style=\"text-align: right;\">\n",
       "      <th></th>\n",
       "      <th>Unique Key</th>\n",
       "      <th>Created Date</th>\n",
       "      <th>Closed Date</th>\n",
       "      <th>Agency</th>\n",
       "      <th>Agency Name</th>\n",
       "      <th>Complaint Type</th>\n",
       "      <th>Descriptor</th>\n",
       "      <th>Location Type</th>\n",
       "      <th>Incident Zip</th>\n",
       "      <th>Incident Address</th>\n",
       "      <th>...</th>\n",
       "      <th>School Code</th>\n",
       "      <th>School Phone Number</th>\n",
       "      <th>School Address</th>\n",
       "      <th>School City</th>\n",
       "      <th>School State</th>\n",
       "      <th>School Zip</th>\n",
       "      <th>School Not Found</th>\n",
       "      <th>Latitude</th>\n",
       "      <th>Longitude</th>\n",
       "      <th>Location</th>\n",
       "    </tr>\n",
       "  </thead>\n",
       "  <tbody>\n",
       "  </tbody>\n",
       "</table>\n",
       "<p>0 rows × 37 columns</p>\n",
       "</div>"
      ],
      "text/plain": [
       "Empty DataFrame\n",
       "Columns: [Unique Key, Created Date, Closed Date, Agency, Agency Name, Complaint Type, Descriptor, Location Type, Incident Zip, Incident Address, Street Name, Cross Street 1, Cross Street 2, Address Type, City, Status, Due Date, Resolution Action Updated Date, Community Board, Borough, X Coordinate (State Plane), Y Coordinate (State Plane), Park Facility Name, Park Borough, School Name, School Number, School Region, School Code, School Phone Number, School Address, School City, School State, School Zip, School Not Found, Latitude, Longitude, Location]\n",
       "Index: []\n",
       "\n",
       "[0 rows x 37 columns]"
      ]
     },
     "execution_count": 55,
     "metadata": {},
     "output_type": "execute_result"
    }
   ],
   "source": [
    "# Look for duplicates. How will you handle any duplicates?\n",
    "#We can use the duplicated method to grab the boolean values of whether a row is duplicated, \n",
    "#and then use it to filter for duplicated rows from df.\n",
    "\n",
    "\n",
    "df_copy[df_copy.duplicated()]"
   ]
  },
  {
   "cell_type": "markdown",
   "id": "566f0208",
   "metadata": {},
   "source": [
    "There are no two rows that look exactly the same. So this returns 0 rows. If there were any duplicates, we could remove them. We can use the drop_duplicates method. But this will return the same DataFrame since there weren’t any duplicates.\n",
    "\n",
    "\n",
    "df.drop_duplicates()"
   ]
  },
  {
   "cell_type": "code",
   "execution_count": 42,
   "id": "cbd6ee14",
   "metadata": {},
   "outputs": [],
   "source": [
    "# Think about what data in the dataframe may be uninformative. Make note here of what situations may render data uninformative and how you would handle it?"
   ]
  },
  {
   "cell_type": "markdown",
   "id": "bdcad93a",
   "metadata": {},
   "source": [
    "## Inconsistent Data\n",
    "\n",
    "Inconsistent data is anything that messes with your model. This is likely due to inconsistent formatting and can be addressed by re-formatting all values in a column or row."
   ]
  },
  {
   "cell_type": "code",
   "execution_count": 71,
   "id": "4fc6bbb7",
   "metadata": {},
   "outputs": [
    {
     "data": {
      "text/plain": [
       "BROOKLYN         34533\n",
       "NEW YORK         26652\n",
       "BRONX            20643\n",
       "STATEN ISLAND     4892\n",
       "Jamaica           1226\n",
       "                 ...  \n",
       "QUEENS              11\n",
       "GLEN OAKS            7\n",
       "New Hyde Park        5\n",
       "NEW HYDE PARK        2\n",
       "MANHATTAN            1\n",
       "Name: City, Length: 90, dtype: int64"
      ]
     },
     "execution_count": 71,
     "metadata": {},
     "output_type": "execute_result"
    }
   ],
   "source": [
    "# Try to convert all the strings in a column to lower or upper case. \n",
    "\n",
    "df_copy['City'].value_counts(dropna=False)"
   ]
  },
  {
   "cell_type": "code",
   "execution_count": 76,
   "id": "f28aa55a",
   "metadata": {},
   "outputs": [],
   "source": [
    "df_copy['city_upper'] = df_copy['City'].str.upper()\n",
    "\n",
    "df_copy['City']=df_copy['city_upper']\n",
    "\n"
   ]
  },
  {
   "cell_type": "code",
   "execution_count": 78,
   "id": "feff8893",
   "metadata": {},
   "outputs": [
    {
     "data": {
      "text/plain": [
       "BROOKLYN               34533\n",
       "NEW YORK               26652\n",
       "BRONX                  20643\n",
       "STATEN ISLAND           4892\n",
       "JAMAICA                 2195\n",
       "RIDGEWOOD               1615\n",
       "ASTORIA                 1068\n",
       "WOODSIDE                 786\n",
       "FLUSHING                 632\n",
       "LONG ISLAND CITY         560\n",
       "ELMHURST                 529\n",
       "OZONE PARK               506\n",
       "CORONA                   506\n",
       "SAINT ALBANS             490\n",
       "JACKSON HEIGHTS          416\n",
       "MASPETH                  415\n",
       "MIDDLE VILLAGE           377\n",
       "EAST ELMHURST            323\n",
       "QUEENS VILLAGE           319\n",
       "SOUTH OZONE PARK         313\n",
       "SOUTH RICHMOND HILL      292\n",
       "FAR ROCKAWAY             278\n",
       "REGO PARK                275\n",
       "SPRINGFIELD GARDENS      264\n",
       "RICHMOND HILL            258\n",
       "WHITESTONE               243\n",
       "FOREST HILLS             226\n",
       "BAYSIDE                  213\n",
       "WOODHAVEN                192\n",
       "SUNNYSIDE                186\n",
       "HOLLIS                   179\n",
       "HOWARD BEACH             169\n",
       "FRESH MEADOWS            125\n",
       "ROSEDALE                 107\n",
       "CAMBRIA HEIGHTS          104\n",
       "BELLEROSE                 97\n",
       "COLLEGE POINT             80\n",
       "ARVERNE                   76\n",
       "ROCKAWAY PARK             71\n",
       "LITTLE NECK               61\n",
       "OAKLAND GARDENS           60\n",
       "KEW GARDENS               58\n",
       "FLORAL PARK               46\n",
       "GLEN OAKS                 24\n",
       "_UNKNOWN_                 23\n",
       "CENTRAL PARK              21\n",
       "QUEENS                    11\n",
       "NEW HYDE PARK              7\n",
       "MANHATTAN                  1\n",
       "Name: City, dtype: int64"
      ]
     },
     "execution_count": 78,
     "metadata": {},
     "output_type": "execute_result"
    }
   ],
   "source": [
    "df_copy['City'].value_counts()"
   ]
  },
  {
   "cell_type": "markdown",
   "id": "a494d4c8",
   "metadata": {},
   "source": [
    "## Key insights needed (After Data Cleaning Exercise)\n",
    "\n",
    "1. Where and when are rats most seen?\n",
    "\n",
    "2. Can you predict rat sightings from previous data?\n",
    "\n",
    "3. Are there any trends in rat sightings?"
   ]
  },
  {
   "cell_type": "code",
   "execution_count": 59,
   "id": "8eb8d23f",
   "metadata": {},
   "outputs": [
    {
     "data": {
      "text/plain": [
       "BROOKLYN         34540\n",
       "MANHATTAN        26686\n",
       "BRONX            20643\n",
       "QUEENS           14754\n",
       "STATEN ISLAND     4894\n",
       "Name: Borough, dtype: int64"
      ]
     },
     "execution_count": 59,
     "metadata": {},
     "output_type": "execute_result"
    }
   ],
   "source": [
    "df_copy['Borough'].value_counts(dropna=False)"
   ]
  },
  {
   "cell_type": "code",
   "execution_count": 73,
   "id": "8cac22ab",
   "metadata": {},
   "outputs": [
    {
     "data": {
      "text/plain": [
       "Closed      73712\n",
       "Pending     23195\n",
       "Assigned     4608\n",
       "Draft           1\n",
       "Open            1\n",
       "Name: Status, dtype: int64"
      ]
     },
     "execution_count": 73,
     "metadata": {},
     "output_type": "execute_result"
    }
   ],
   "source": [
    "df_copy['Status'].value_counts(dropna=False)"
   ]
  },
  {
   "cell_type": "code",
   "execution_count": 63,
   "id": "7bf97a8b",
   "metadata": {},
   "outputs": [
    {
     "data": {
      "text/plain": [
       "Rat Sighting    101517\n",
       "Name: Descriptor, dtype: int64"
      ]
     },
     "execution_count": 63,
     "metadata": {},
     "output_type": "execute_result"
    }
   ],
   "source": [
    "df_copy['Descriptor'].value_counts()"
   ]
  },
  {
   "cell_type": "code",
   "execution_count": 75,
   "id": "630631bb",
   "metadata": {},
   "outputs": [
    {
     "data": {
      "text/html": [
       "<div>\n",
       "<style scoped>\n",
       "    .dataframe tbody tr th:only-of-type {\n",
       "        vertical-align: middle;\n",
       "    }\n",
       "\n",
       "    .dataframe tbody tr th {\n",
       "        vertical-align: top;\n",
       "    }\n",
       "\n",
       "    .dataframe thead th {\n",
       "        text-align: right;\n",
       "    }\n",
       "</style>\n",
       "<table border=\"1\" class=\"dataframe\">\n",
       "  <thead>\n",
       "    <tr style=\"text-align: right;\">\n",
       "      <th></th>\n",
       "      <th>Created Date</th>\n",
       "      <th>Closed Date</th>\n",
       "      <th>Borough</th>\n",
       "      <th>City</th>\n",
       "      <th>Incident Zip</th>\n",
       "      <th>Location Type</th>\n",
       "      <th>Descriptor</th>\n",
       "      <th>Status</th>\n",
       "      <th>Resolution Action Updated Date</th>\n",
       "    </tr>\n",
       "  </thead>\n",
       "  <tbody>\n",
       "    <tr>\n",
       "      <th>0</th>\n",
       "      <td>09/04/2015 12:00:00 AM</td>\n",
       "      <td>09/18/2015 12:00:00 AM</td>\n",
       "      <td>MANHATTAN</td>\n",
       "      <td>NEW YORK</td>\n",
       "      <td>10006.0</td>\n",
       "      <td>3+ Family Mixed Use Building</td>\n",
       "      <td>Rat Sighting</td>\n",
       "      <td>Closed</td>\n",
       "      <td>09/18/2015 12:00:00 AM</td>\n",
       "    </tr>\n",
       "    <tr>\n",
       "      <th>1</th>\n",
       "      <td>09/04/2015 12:00:00 AM</td>\n",
       "      <td>10/28/2015 12:00:00 AM</td>\n",
       "      <td>STATEN ISLAND</td>\n",
       "      <td>STATEN ISLAND</td>\n",
       "      <td>10306.0</td>\n",
       "      <td>Commercial Building</td>\n",
       "      <td>Rat Sighting</td>\n",
       "      <td>Closed</td>\n",
       "      <td>10/28/2015 12:00:00 AM</td>\n",
       "    </tr>\n",
       "    <tr>\n",
       "      <th>2</th>\n",
       "      <td>09/04/2015 12:00:00 AM</td>\n",
       "      <td>_UNKNOWN_</td>\n",
       "      <td>STATEN ISLAND</td>\n",
       "      <td>STATEN ISLAND</td>\n",
       "      <td>10310.0</td>\n",
       "      <td>1-2 Family Dwelling</td>\n",
       "      <td>Rat Sighting</td>\n",
       "      <td>Assigned</td>\n",
       "      <td>09/04/2015 12:03:49 PM</td>\n",
       "    </tr>\n",
       "    <tr>\n",
       "      <th>3</th>\n",
       "      <td>09/04/2015 12:00:00 AM</td>\n",
       "      <td>09/14/2015 12:00:00 AM</td>\n",
       "      <td>BROOKLYN</td>\n",
       "      <td>BROOKLYN</td>\n",
       "      <td>11206.0</td>\n",
       "      <td>3+ Family Apt. Building</td>\n",
       "      <td>Rat Sighting</td>\n",
       "      <td>Closed</td>\n",
       "      <td>09/14/2015 12:00:00 AM</td>\n",
       "    </tr>\n",
       "    <tr>\n",
       "      <th>4</th>\n",
       "      <td>09/04/2015 12:00:00 AM</td>\n",
       "      <td>09/22/2015 12:00:00 AM</td>\n",
       "      <td>BRONX</td>\n",
       "      <td>BRONX</td>\n",
       "      <td>10462.0</td>\n",
       "      <td>3+ Family Mixed Use Building</td>\n",
       "      <td>Rat Sighting</td>\n",
       "      <td>Closed</td>\n",
       "      <td>09/22/2015 12:00:00 AM</td>\n",
       "    </tr>\n",
       "  </tbody>\n",
       "</table>\n",
       "</div>"
      ],
      "text/plain": [
       "             Created Date             Closed Date        Borough  \\\n",
       "0  09/04/2015 12:00:00 AM  09/18/2015 12:00:00 AM      MANHATTAN   \n",
       "1  09/04/2015 12:00:00 AM  10/28/2015 12:00:00 AM  STATEN ISLAND   \n",
       "2  09/04/2015 12:00:00 AM               _UNKNOWN_  STATEN ISLAND   \n",
       "3  09/04/2015 12:00:00 AM  09/14/2015 12:00:00 AM       BROOKLYN   \n",
       "4  09/04/2015 12:00:00 AM  09/22/2015 12:00:00 AM          BRONX   \n",
       "\n",
       "            City  Incident Zip                 Location Type    Descriptor  \\\n",
       "0       NEW YORK       10006.0  3+ Family Mixed Use Building  Rat Sighting   \n",
       "1  STATEN ISLAND       10306.0           Commercial Building  Rat Sighting   \n",
       "2  STATEN ISLAND       10310.0           1-2 Family Dwelling  Rat Sighting   \n",
       "3       BROOKLYN       11206.0       3+ Family Apt. Building  Rat Sighting   \n",
       "4          BRONX       10462.0  3+ Family Mixed Use Building  Rat Sighting   \n",
       "\n",
       "     Status Resolution Action Updated Date  \n",
       "0    Closed         09/18/2015 12:00:00 AM  \n",
       "1    Closed         10/28/2015 12:00:00 AM  \n",
       "2  Assigned         09/04/2015 12:03:49 PM  \n",
       "3    Closed         09/14/2015 12:00:00 AM  \n",
       "4    Closed         09/22/2015 12:00:00 AM  "
      ]
     },
     "execution_count": 75,
     "metadata": {},
     "output_type": "execute_result"
    }
   ],
   "source": [
    "col =['Created Date','Closed Date','Borough','City','Incident Zip','Location Type','Descriptor','Status','Resolution Action Updated Date']\n",
    "nyc_rat = df_copy[col] # I take only the necessary columns \n",
    "nyc_rat.head()"
   ]
  },
  {
   "cell_type": "code",
   "execution_count": 49,
   "id": "edaac810",
   "metadata": {},
   "outputs": [],
   "source": [
    "#pp.ProfileReport(nyc_rat)"
   ]
  }
 ],
 "metadata": {
  "kernelspec": {
   "display_name": "Python 3 (ipykernel)",
   "language": "python",
   "name": "python3"
  },
  "language_info": {
   "codemirror_mode": {
    "name": "ipython",
    "version": 3
   },
   "file_extension": ".py",
   "mimetype": "text/x-python",
   "name": "python",
   "nbconvert_exporter": "python",
   "pygments_lexer": "ipython3",
   "version": "3.9.12"
  }
 },
 "nbformat": 4,
 "nbformat_minor": 5
}
